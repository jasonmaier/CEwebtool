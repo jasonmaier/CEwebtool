{
 "cells": [
  {
   "cell_type": "markdown",
   "metadata": {},
   "source": [
    "#Functions for Material Circularity Indicator"
   ]
  },
  {
   "cell_type": "code",
   "execution_count": 1,
   "metadata": {
    "collapsed": false
   },
   "outputs": [],
   "source": [
    "## Calculate Virgin Feedstock\n",
    "#M = mass\n",
    "#Fr = Fraction of feedstock from recycled materials\n",
    "#Fu = Fraction of materials from reused sources\n",
    "def VirginFeedStock(Mass, Fr, Fu):\n",
    "    VirginFeed = Mass * (1 - Fr - Fu)\n",
    "    #print \"Virgin Feedstock = %s\" % VirginFeed\n",
    "    return VirginFeed"
   ]
  },
  {
   "cell_type": "code",
   "execution_count": 3,
   "metadata": {
    "collapsed": false
   },
   "outputs": [
    {
     "name": "stdout",
     "output_type": "stream",
     "text": [
      "40.0\n"
     ]
    }
   ],
   "source": [
    "X = VirginFeedStock(100, 0.5, 0.1)\n",
    "print X"
   ]
  },
  {
   "cell_type": "code",
   "execution_count": 10,
   "metadata": {
    "collapsed": false
   },
   "outputs": [],
   "source": [
    "##Calculate Unrecoverable Waste\n",
    "#Cr = Fraction of mass collected for recycle\n",
    "#Cu = Fraction of mass collected for reuse\n",
    "#Wo = Unrecoverable Waste Init\n",
    "#Wc = Unrecoverable waste from Recycling\n",
    "#Wf = Unrecovereable waste from Recycling Feed\n",
    "#Wf = Waste generated to produce recycled Feedstock\n",
    "#Ec = efficiency of recycling process\n",
    "#Ef = efficiency of recycling process for feedstock\n",
    "#Wtot = Total unrecoverable waste\n",
    "\n",
    "def UnrecovWaste(Mass, Cr, Cu, Ef, Ec, Fr, Fu):\n",
    "    W0 = Mass * (1 - Cr - Cu)\n",
    "    print W0\n",
    "    Wc = Mass * (1 - Ec) * Cr\n",
    "    print Wc\n",
    "    Wf = Mass * ((1 - Ef)*Fr/Ef)\n",
    "    print Wf\n",
    "    Wtot = W0 + (Wf + Wc)/2\n",
    "    print \"Total unrecoverable waste = %s\" % Wtot\n",
    "    return Wtot, Wc, Wf"
   ]
  },
  {
   "cell_type": "code",
   "execution_count": 11,
   "metadata": {
    "collapsed": false
   },
   "outputs": [
    {
     "name": "stdout",
     "output_type": "stream",
     "text": [
      "80.0\n",
      "9.0\n",
      "1.11111111111\n",
      "Total unrecoverable waste = 85.0555555556\n"
     ]
    },
    {
     "data": {
      "text/plain": [
       "(85.05555555555556, 9.0, 1.111111111111111)"
      ]
     },
     "execution_count": 11,
     "metadata": {},
     "output_type": "execute_result"
    }
   ],
   "source": [
    "UnrecovWaste(100, 0.1, 0.1, 0.9, 0.1, 0.1, 0.1)"
   ]
  },
  {
   "cell_type": "code",
   "execution_count": 14,
   "metadata": {
    "collapsed": true
   },
   "outputs": [],
   "source": [
    "##Calculating Linear Flow Index\n",
    "## LFI = Linear Flow Index (between 0, 1 where 0 is completely linear)\n",
    "def LinearFlowIndex(Mass, Fr, Fu, Cr, Cu, Ef, Ec):\n",
    "    VirginFeed = VirginFeedStock(Mass, Fr, Fu)\n",
    "    print VirginFeed\n",
    "    Wtot, Wc, Wf = UnrecovWaste(Mass, Cr, Cu, Ef, Ec, Fr, Fu)\n",
    "    LFI = (VirginFeed + Wtot)/(2 * Mass + (Wf - Wc)/2)\n",
    "    return LFI"
   ]
  },
  {
   "cell_type": "code",
   "execution_count": 15,
   "metadata": {
    "collapsed": false
   },
   "outputs": [
    {
     "name": "stdout",
     "output_type": "stream",
     "text": [
      "80.0\n",
      "-2.77555756156e-15\n",
      "81.0\n",
      "90.0\n",
      "Total unrecoverable waste = 85.5\n"
     ]
    },
    {
     "data": {
      "text/plain": [
       "0.8092909535452323"
      ]
     },
     "execution_count": 15,
     "metadata": {},
     "output_type": "execute_result"
    }
   ],
   "source": [
    "LinearFlowIndex(100, 0.1, 0.1, 0.9, 0.1, 0.1, 0.1)"
   ]
  },
  {
   "cell_type": "code",
   "execution_count": 16,
   "metadata": {
    "collapsed": true
   },
   "outputs": [],
   "source": [
    "##Calculating the Utility\n",
    "#X = Utility\n",
    "#L = Length of Use\n",
    "#Lav = Average Length of use\n",
    "#U = intensity of use\n",
    "#Uav = average intensity of use\n",
    "def Utility (L, Lav, U, Uav):\n",
    "    X = (L/Lav)*(U/Uav)\n",
    "    return X\n",
    "    "
   ]
  },
  {
   "cell_type": "code",
   "execution_count": 17,
   "metadata": {
    "collapsed": true
   },
   "outputs": [],
   "source": [
    "##Calculate Material Circularity Indicator\n",
    "###MCIp = MCI for a product\n",
    "def MatCircInd(LFI, X):\n",
    "    MCIx = 1 - LFI * (0.9/X)\n",
    "    MCI = max(0, MCIx)\n",
    "    return MCI"
   ]
  },
  {
   "cell_type": "code",
   "execution_count": 18,
   "metadata": {
    "collapsed": false
   },
   "outputs": [
    {
     "data": {
      "text/plain": [
       "0.18999999999999995"
      ]
     },
     "execution_count": 18,
     "metadata": {},
     "output_type": "execute_result"
    }
   ],
   "source": [
    "MatCircInd(0.9, 1)"
   ]
  },
  {
   "cell_type": "code",
   "execution_count": null,
   "metadata": {
    "collapsed": true
   },
   "outputs": [],
   "source": []
  }
 ],
 "metadata": {
  "kernelspec": {
   "display_name": "Python 2",
   "language": "python",
   "name": "python2"
  },
  "language_info": {
   "codemirror_mode": {
    "name": "ipython",
    "version": 2
   },
   "file_extension": ".py",
   "mimetype": "text/x-python",
   "name": "python",
   "nbconvert_exporter": "python",
   "pygments_lexer": "ipython2",
   "version": "2.7.10"
  }
 },
 "nbformat": 4,
 "nbformat_minor": 0
}
