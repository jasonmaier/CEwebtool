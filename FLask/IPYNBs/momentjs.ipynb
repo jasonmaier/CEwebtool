{
 "cells": [
  {
   "cell_type": "code",
   "execution_count": null,
   "metadata": {
    "collapsed": true
   },
   "outputs": [],
   "source": [
    "from jinja2 import Markup\n",
    "\n",
    "\n",
    "class momentjs(object):\n",
    "    def __init__(self, timestamp):\n",
    "        self.timestamp = timestamp\n",
    "\n",
    "    def render(self, format):\n",
    "        return Markup(\n",
    "            \"<script>\\ndocument.write(moment(\\\"%s\\\").%s);\\n</script>\" %\n",
    "            (self.timestamp.strftime(\"%Y-%m-%dT%H:%M:%S Z\"), format))\n",
    "\n",
    "    def format(self, fmt):\n",
    "        return self.render(\"format(\\\"%s\\\")\" % fmt)\n",
    "\n",
    "    def calendar(self):\n",
    "        return self.render(\"calendar()\")\n",
    "\n",
    "    def fromNow(self):\n",
    "        return self.render(\"fromNow()\")\n"
   ]
  }
 ],
 "metadata": {
  "kernelspec": {
   "display_name": "Python 2",
   "language": "python",
   "name": "python2"
  },
  "language_info": {
   "codemirror_mode": {
    "name": "ipython",
    "version": 2
   },
   "file_extension": ".py",
   "mimetype": "text/x-python",
   "name": "python",
   "nbconvert_exporter": "python",
   "pygments_lexer": "ipython2",
   "version": "2.7.10"
  }
 },
 "nbformat": 4,
 "nbformat_minor": 0
}
