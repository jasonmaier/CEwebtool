{
 "cells": [
  {
   "cell_type": "code",
   "execution_count": null,
   "metadata": {
    "collapsed": true
   },
   "outputs": [],
   "source": [
    "from flask import render_template\n",
    "from flask.ext.mail import Message\n",
    "from app import mail\n",
    "from .decorators import async\n",
    "from config import ADMINS\n",
    "from app import app\n",
    "\n",
    "\n",
    "@async\n",
    "def send_async_email(app, msg):\n",
    "    with app.app_context():\n",
    "        mail.send(msg)\n",
    "\n",
    "\n",
    "def send_email(subject, sender, recipients, text_body, html_body):\n",
    "    msg = Message(subject, sender=sender, recipients=recipients)\n",
    "    msg.body = text_body\n",
    "    msg.html = html_body\n",
    "    send_async_email(app, msg)\n",
    "\n",
    "\n",
    "def follower_notification(followed, follower):\n",
    "    send_email(\"[microblog] %s is now following you!\" % follower.nickname,\n",
    "               ADMINS[0],\n",
    "               [followed.email],\n",
    "               render_template(\"follower_email.txt\",\n",
    "                               user=followed, follower=follower),\n",
    "               render_template(\"follower_email.html\",\n",
    "                               user=followed, follower=follower))\n"
   ]
  }
 ],
 "metadata": {
  "kernelspec": {
   "display_name": "Python 2",
   "language": "python",
   "name": "python2"
  },
  "language_info": {
   "codemirror_mode": {
    "name": "ipython",
    "version": 2
   },
   "file_extension": ".py",
   "mimetype": "text/x-python",
   "name": "python",
   "nbconvert_exporter": "python",
   "pygments_lexer": "ipython2",
   "version": "2.7.10"
  }
 },
 "nbformat": 4,
 "nbformat_minor": 0
}
