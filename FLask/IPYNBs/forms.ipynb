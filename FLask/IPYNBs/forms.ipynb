{
 "cells": [
  {
   "cell_type": "code",
   "execution_count": null,
   "metadata": {
    "collapsed": true
   },
   "outputs": [],
   "source": [
    "from flask.ext.wtf import Form\n",
    "from flask.ext.babel import gettext\n",
    "from wtforms import StringField, BooleanField, TextAreaField\n",
    "from wtforms.validators import DataRequired, Length\n",
    "from .models import User\n",
    "\n",
    "\n",
    "class LoginForm(Form):\n",
    "    openid = StringField('openid', validators=[DataRequired()])\n",
    "    remember_me = BooleanField('remember_me', default=False)\n",
    "\n",
    "\n",
    "class EditForm(Form):\n",
    "    nickname = StringField('nickname', validators=[DataRequired()])\n",
    "    about_me = TextAreaField('about_me', validators=[Length(min=0, max=140)])\n",
    "\n",
    "    def __init__(self, original_nickname, *args, **kwargs):\n",
    "        Form.__init__(self, *args, **kwargs)\n",
    "        self.original_nickname = original_nickname\n",
    "\n",
    "    def validate(self):\n",
    "        if not Form.validate(self):\n",
    "            return False\n",
    "        if self.nickname.data == self.original_nickname:\n",
    "            return True\n",
    "        if self.nickname.data != User.make_valid_nickname(self.nickname.data):\n",
    "            self.nickname.errors.append(gettext(\n",
    "                'This nickname has invalid characters. '\n",
    "                'Please use letters, numbers, dots and underscores only.'))\n",
    "            return False\n",
    "        user = User.query.filter_by(nickname=self.nickname.data).first()\n",
    "        if user is not None:\n",
    "            self.nickname.errors.append(gettext(\n",
    "                'This nickname is already in use. '\n",
    "                'Please choose another one.'))\n",
    "            return False\n",
    "        return True\n",
    "\n",
    "\n",
    "class PostForm(Form):\n",
    "    post = StringField('post', validators=[DataRequired()])\n",
    "\n",
    "class UserData(Form):\n",
    "    mass = StringField('mass', validators=[DataRequired()])\n",
    "    \n",
    "\n",
    "class SearchForm(Form):\n",
    "    search = StringField('search', validators=[DataRequired()])\n"
   ]
  }
 ],
 "metadata": {
  "kernelspec": {
   "display_name": "Python 2",
   "language": "python",
   "name": "python2"
  },
  "language_info": {
   "codemirror_mode": {
    "name": "ipython",
    "version": 2
   },
   "file_extension": ".py",
   "mimetype": "text/x-python",
   "name": "python",
   "nbconvert_exporter": "python",
   "pygments_lexer": "ipython2",
   "version": "2.7.10"
  }
 },
 "nbformat": 4,
 "nbformat_minor": 0
}
