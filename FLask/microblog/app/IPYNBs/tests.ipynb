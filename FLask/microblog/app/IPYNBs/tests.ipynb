{
 "cells": [
  {
   "cell_type": "code",
   "execution_count": null,
   "metadata": {
    "collapsed": true
   },
   "outputs": [],
   "source": [
    "#!flask/bin/python\n",
    "import os\n",
    "import unittest\n",
    "\n",
    "from config import basedir\n",
    "from app import app, db\n",
    "from app.models import User\n",
    "\n",
    "class TestCase(unittest.TestCase):\n",
    "    def setUp(self):\n",
    "        app.config['TESTING'] = True\n",
    "        app.config['WTF_CSRF_ENABLED'] = False\n",
    "        app.config['SQLALCHEMY_DATABASE_URI'] = 'sqlite:///' + os.path.join(basedir, 'test.db')\n",
    "        self.app = app.test_client()\n",
    "        db.create_all()\n",
    "\n",
    "    def tearDown(self):\n",
    "        db.session.remove()\n",
    "        db.drop_all()\n",
    "\n",
    "    def test_avatar(self):\n",
    "        u = User(nickname='john', email='john@example.com')\n",
    "        avatar = u.avatar(128)\n",
    "        expected = 'http://www.gravatar.com/avatar/d4c74594d841139328695756648b6bd6'\n",
    "        assert avatar[0:len(expected)] == expected\n",
    "\n",
    "    def test_make_unique_nickname(self):\n",
    "        u = User(nickname='john', email='john@example.com')\n",
    "        db.session.add(u)\n",
    "        db.session.commit()\n",
    "        nickname = User.make_unique_nickname('john')\n",
    "        assert nickname != 'john'\n",
    "        u = User(nickname=nickname, email='susan@example.com')\n",
    "        db.session.add(u)\n",
    "        db.session.commit()\n",
    "        nickname2 = User.make_unique_nickname('john')\n",
    "        assert nickname2 != 'john'\n",
    "        assert nickname2 != nickname\n",
    "\n",
    "if __name__ == '__main__':\n",
    "    unittest.main()"
   ]
  }
 ],
 "metadata": {
  "kernelspec": {
   "display_name": "Python 2",
   "language": "python",
   "name": "python2"
  },
  "language_info": {
   "codemirror_mode": {
    "name": "ipython",
    "version": 2
   },
   "file_extension": ".py",
   "mimetype": "text/x-python",
   "name": "python",
   "nbconvert_exporter": "python",
   "pygments_lexer": "ipython2",
   "version": "2.7.10"
  }
 },
 "nbformat": 4,
 "nbformat_minor": 0
}
