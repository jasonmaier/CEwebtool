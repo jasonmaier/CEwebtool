{
 "cells": [
  {
   "cell_type": "code",
   "execution_count": 2,
   "metadata": {
    "collapsed": false,
    "scrolled": true
   },
   "outputs": [
    {
     "ename": "ImportError",
     "evalue": "No module named app",
     "output_type": "error",
     "traceback": [
      "\u001b[1;31m---------------------------------------------------------------------------\u001b[0m",
      "\u001b[1;31mImportError\u001b[0m                               Traceback (most recent call last)",
      "\u001b[1;32m<ipython-input-2-4874541c9562>\u001b[0m in \u001b[0;36m<module>\u001b[1;34m()\u001b[0m\n\u001b[0;32m      1\u001b[0m \u001b[0mapp\u001b[0m \u001b[1;33m=\u001b[0m \u001b[0mFlask\u001b[0m\u001b[1;33m(\u001b[0m\u001b[0m__name__\u001b[0m\u001b[1;33m)\u001b[0m\u001b[1;33m\u001b[0m\u001b[0m\n\u001b[1;32m----> 2\u001b[1;33m \u001b[1;32mfrom\u001b[0m \u001b[0mapp\u001b[0m \u001b[1;32mimport\u001b[0m \u001b[0mviews\u001b[0m\u001b[1;33m\u001b[0m\u001b[0m\n\u001b[0m",
      "\u001b[1;31mImportError\u001b[0m: No module named app"
     ]
    }
   ],
   "source": [
    "import os\n",
    "from flask import Flask\n",
    "from flask.ext.sqlalchemy import SQLAlchemy\n",
    "from flask.ext.login import LoginManager\n",
    "from flask.ext.openid import OpenID\n",
    "from config import basedir, ADMINS, MAIL_SERVER, MAIL_PORT, MAIL_USERNAME, \\\n",
    "    MAIL_PASSWORD\n",
    "\n",
    "app = Flask(__name__)\n",
    "app.config.from_object('config')\n",
    "db = SQLAlchemy(app)\n",
    "lm = LoginManager()\n",
    "lm.init_app(app)\n",
    "lm.login_view = 'login'\n",
    "oid = OpenID(app, os.path.join(basedir, 'tmp'))\n",
    "\n",
    "if not app.debug:\n",
    "    import logging\n",
    "    from logging.handlers import SMTPHandler\n",
    "    credentials = None\n",
    "    if MAIL_USERNAME or MAIL_PASSWORD:\n",
    "        credentials = (MAIL_USERNAME, MAIL_PASSWORD)\n",
    "    mail_handler = SMTPHandler((MAIL_SERVER, MAIL_PORT),\n",
    "                               'no-reply@' + MAIL_SERVER, ADMINS,\n",
    "                               'microblog failure', credentials)\n",
    "    mail_handler.setLevel(logging.ERROR)\n",
    "    app.logger.addHandler(mail_handler)\n",
    "\n",
    "if not app.debug:\n",
    "    import logging\n",
    "    from logging.handlers import RotatingFileHandler\n",
    "    file_handler = RotatingFileHandler('tmp/microblog.log', 'a',\n",
    "                                       1 * 1024 * 1024, 10)\n",
    "    file_handler.setLevel(logging.INFO)\n",
    "    file_handler.setFormatter(logging.Formatter(\n",
    "        '%(asctime)s %(levelname)s: %(message)s [in %(pathname)s:%(lineno)d]'))\n",
    "    app.logger.addHandler(file_handler)\n",
    "    app.logger.setLevel(logging.INFO)\n",
    "    app.logger.info('microblog startup')\n",
    "\n",
    "from app import views, models"
   ]
  },
  {
   "cell_type": "code",
   "execution_count": null,
   "metadata": {
    "collapsed": true
   },
   "outputs": [],
   "source": []
  }
 ],
 "metadata": {
  "kernelspec": {
   "display_name": "Python 2",
   "language": "python",
   "name": "python2"
  },
  "language_info": {
   "codemirror_mode": {
    "name": "ipython",
    "version": 2
   },
   "file_extension": ".py",
   "mimetype": "text/x-python",
   "name": "python",
   "nbconvert_exporter": "python",
   "pygments_lexer": "ipython2",
   "version": "2.7.10"
  }
 },
 "nbformat": 4,
 "nbformat_minor": 0
}
