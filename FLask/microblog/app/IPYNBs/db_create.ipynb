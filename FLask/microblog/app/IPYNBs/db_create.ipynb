{
 "cells": [
  {
   "cell_type": "code",
   "execution_count": null,
   "metadata": {
    "collapsed": true
   },
   "outputs": [],
   "source": [
    "#!flask/bin/python\n",
    "from migrate.versioning import api\n",
    "from config import SQLALCHEMY_DATABASE_URI\n",
    "from config import SQLALCHEMY_MIGRATE_REPO\n",
    "from app import db\n",
    "import os.path\n",
    "db.create_all()\n",
    "if not os.path.exists(SQLALCHEMY_MIGRATE_REPO):\n",
    "    api.create(SQLALCHEMY_MIGRATE_REPO, 'database repository')\n",
    "    api.version_control(SQLALCHEMY_DATABASE_URI, SQLALCHEMY_MIGRATE_REPO)\n",
    "else:\n",
    "    api.version_control(SQLALCHEMY_DATABASE_URI, SQLALCHEMY_MIGRATE_REPO, api.version(SQLALCHEMY_MIGRATE_REPO))"
   ]
  }
 ],
 "metadata": {
  "kernelspec": {
   "display_name": "Python 2",
   "language": "python",
   "name": "python2"
  },
  "language_info": {
   "codemirror_mode": {
    "name": "ipython",
    "version": 2
   },
   "file_extension": ".py",
   "mimetype": "text/x-python",
   "name": "python",
   "nbconvert_exporter": "python",
   "pygments_lexer": "ipython2",
   "version": "2.7.10"
  }
 },
 "nbformat": 4,
 "nbformat_minor": 0
}
